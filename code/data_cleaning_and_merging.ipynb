{
 "cells": [
  {
   "cell_type": "code",
   "execution_count": 1,
   "metadata": {},
   "outputs": [],
   "source": [
    "# importing dependencies \n",
    "import pandas as pd"
   ]
  },
  {
   "cell_type": "code",
   "execution_count": 2,
   "metadata": {},
   "outputs": [],
   "source": [
    "# reading the csv files created by making API calls\n",
    "\n",
    "# daily ozone \n",
    "ozone_2015 = pd.read_csv('../data/daily_ozone_2015_austin.csv')\n",
    "ozone_2016 = pd.read_csv('../data/daily_ozone_2016_austin.csv')\n",
    "ozone_2017 = pd.read_csv('../data/daily_ozone_2017_austin.csv')\n",
    "ozone_2018 = pd.read_csv('../data/daily_ozone_2018_austin.csv')\n",
    "ozone_2019 = pd.read_csv('../data/daily_ozone_2019_austin.csv')\n",
    "\n",
    "# daily pm2.5  \n",
    "pm_2015 = pd.read_csv('../data/daily_pm_2015_austin.csv')\n",
    "pm_2016 = pd.read_csv('../data/daily_pm_2016_austin.csv')\n",
    "pm_2017 = pd.read_csv('../data/daily_pm_2017_austin.csv')\n",
    "pm_2018 = pd.read_csv('../data/daily_pm_2018_austin.csv')\n",
    "pm_2019 = pd.read_csv('../data/daily_pm_2019_austin.csv')\n",
    "\n",
    "# daily weather\n",
    "weather_2015 = pd.read_csv('../data/daily_weather_2015_austin.csv')\n",
    "weather_2016 = pd.read_csv('../data/daily_weather_2016_austin.csv')\n",
    "weather_2017 = pd.read_csv('../data/daily_weather_2017_austin.csv')\n",
    "weather_2018 = pd.read_csv('../data/daily_weather_2018_austin.csv')\n",
    "weather_2019 = pd.read_csv('../data/daily_weather_2019_austin.csv')\n",
    "\n",
    "# daily nitrogen dioxide (NO2)\n",
    "no2_2015 = pd.read_csv('../data/daily_no2_2015_austin.csv')\n",
    "no2_2016 = pd.read_csv('../data/daily_no2_2016_austin.csv')\n",
    "no2_2017 = pd.read_csv('../data/daily_no2_2017_austin.csv')\n",
    "no2_2018 = pd.read_csv('../data/daily_no2_2018_austin.csv')\n",
    "no2_2019 = pd.read_csv('../data/daily_no2_2019_austin.csv')\n",
    "\n",
    "# daily sulpher dioxide (SO2)\n",
    "so2_2015 = pd.read_csv('../data/daily_so_2015_austin.csv')\n",
    "so2_2016 = pd.read_csv('../data/daily_so_2016_austin.csv')\n",
    "so2_2017 = pd.read_csv('../data/daily_so_2017_austin.csv')\n",
    "so2_2018 = pd.read_csv('../data/daily_so_2018_austin.csv')\n",
    "so2_2019 = pd.read_csv('../data/daily_so_2019_austin.csv')\n",
    "\n",
    "# daily PM10\n",
    "pm10_2015 = pd.read_csv('../data/daily_pm10_2015_austin.csv')\n",
    "pm10_2016 = pd.read_csv('../data/daily_pm10_2016_austin.csv')\n",
    "pm10_2017 = pd.read_csv('../data/daily_pm10_2017_austin.csv')\n",
    "pm10_2018 = pd.read_csv('../data/daily_pm10_2018_austin.csv')\n",
    "pm10_2019 = pd.read_csv('../data/daily_pm10_2019_austin.csv')"
   ]
  },
  {
   "cell_type": "code",
   "execution_count": 3,
   "metadata": {},
   "outputs": [],
   "source": [
    "# appending ozone data for 5 years\n",
    "combined_ozone_data = pd.concat([ozone_2015, ozone_2016, ozone_2017, ozone_2018, ozone_2019])\n",
    "\n",
    "# save the combined ozone data in a csv file\n",
    "combined_ozone_data.to_csv('../data/combined_ozone_data.csv', index=False)"
   ]
  },
  {
   "cell_type": "code",
   "execution_count": 4,
   "metadata": {},
   "outputs": [],
   "source": [
    "# appending pm2.5 data for 5 years\n",
    "combined_pm2_5_data = pd.concat([pm_2015, pm_2016, pm_2017, pm_2018, pm_2019])"
   ]
  },
  {
   "cell_type": "code",
   "execution_count": 5,
   "metadata": {},
   "outputs": [],
   "source": [
    "# appending weather data for 5 years\n",
    "combined_weather_data = pd.concat([weather_2015, weather_2016, weather_2017, weather_2018, weather_2019])"
   ]
  },
  {
   "cell_type": "code",
   "execution_count": 6,
   "metadata": {},
   "outputs": [],
   "source": [
    "# appending NO2 data for 5 years\n",
    "combined_no2_data = pd.concat([no2_2015, no2_2016, no2_2017, no2_2018, no2_2019])"
   ]
  },
  {
   "cell_type": "code",
   "execution_count": 7,
   "metadata": {},
   "outputs": [],
   "source": [
    "# appending SO data for 5 years\n",
    "combined_so2_data = pd.concat([so2_2015, so2_2016, so2_2017, so2_2018, so2_2019])"
   ]
  },
  {
   "cell_type": "code",
   "execution_count": 8,
   "metadata": {},
   "outputs": [],
   "source": [
    "# appending PM10 data for 5 years\n",
    "combined_pm10_data = pd.concat([pm10_2015, pm10_2016, pm10_2017, pm10_2018, pm10_2019])"
   ]
  },
  {
   "cell_type": "code",
   "execution_count": 9,
   "metadata": {},
   "outputs": [],
   "source": [
    "# merging ozone and weather data\n",
    "combined_oz_weather_data = pd.merge(combined_ozone_data, \n",
    "                                    combined_weather_data, \n",
    "                                    how='inner', \n",
    "                                    left_on='date_local', \n",
    "                                    right_on='date') \\\n",
    "                            .drop('date_local', axis=1) \\\n",
    "                            [['date', 'avgtempC', 'winddirDegree', 'windspeedKmph', 'cloudcover', 'humidity', 'precipInches',\n",
    "                             'pressure', 'visibility', 'maxtempC', 'mintempC', 'sunHour', 'Ozone(ppm)']]"
   ]
  },
  {
   "cell_type": "code",
   "execution_count": 10,
   "metadata": {},
   "outputs": [],
   "source": [
    "# save the final combined ozone and weather data in a csv file\n",
    "combined_oz_weather_data.to_csv('../data/combined_oz_weather_data.csv', index=False)"
   ]
  },
  {
   "cell_type": "code",
   "execution_count": 11,
   "metadata": {},
   "outputs": [],
   "source": [
    "# merging PM2.5 and weather data\n",
    "combined_pm2_5_weather_data = pd.merge(combined_pm2_5_data, \n",
    "                                       combined_weather_data,\n",
    "                                       how='inner', \n",
    "                                       left_on='date_local', \n",
    "                                       right_on='date') \\\n",
    "                                .drop('date', axis=1) \\\n",
    "                                [['date_local', 'avgtempC', 'winddirDegree', 'windspeedKmph', 'cloudcover', 'humidity', 'precipInches',\n",
    "                                  'pressure', 'visibility', 'maxtempC', 'mintempC', 'sunHour', 'PM2.5']]\n"
   ]
  },
  {
   "cell_type": "code",
   "execution_count": 12,
   "metadata": {},
   "outputs": [],
   "source": [
    "# save the final combined pm2.5 and weather data in a csv file\n",
    "combined_pm2_5_weather_data.to_csv('../data/combined_pm2_5_weather_data.csv', index=False)"
   ]
  },
  {
   "cell_type": "code",
   "execution_count": 13,
   "metadata": {},
   "outputs": [],
   "source": [
    "# merging PM10 and weather data\n",
    "combined_pm2_5_weather_data = pd.merge(combined_pm10_data, \n",
    "                                       combined_weather_data,\n",
    "                                       how='inner', \n",
    "                                       left_on='date_local', \n",
    "                                       right_on='date') \\\n",
    "                                .drop('date', axis=1) \\\n",
    "                                [['date_local', 'avgtempC', 'winddirDegree', 'windspeedKmph', 'cloudcover', 'humidity', 'precipInches',\n",
    "                                  'pressure', 'visibility', 'maxtempC', 'mintempC', 'sunHour', 'PM10']]"
   ]
  },
  {
   "cell_type": "code",
   "execution_count": 14,
   "metadata": {},
   "outputs": [],
   "source": [
    "# save the final combined pm2.5 and weather data in a csv file\n",
    "combined_pm2_5_weather_data.to_csv('../data/combined_pm10_weather_data.csv', index=False)"
   ]
  },
  {
   "cell_type": "code",
   "execution_count": 15,
   "metadata": {},
   "outputs": [],
   "source": [
    "# merging NO2 and weather data\n",
    "combined_no2_weather_data = pd.merge(combined_no2_data,\n",
    "                                      combined_weather_data,\n",
    "                                      how='inner', \n",
    "                                      left_on='date_local', \n",
    "                                      right_on='date') \\\n",
    "                                .drop('date', axis=1) \\\n",
    "                                [['date_local', 'avgtempC', 'winddirDegree', 'windspeedKmph', 'cloudcover', 'humidity', 'precipInches',\n",
    "                                  'pressure', 'visibility', 'maxtempC', 'mintempC', 'sunHour', 'NO2']]\n"
   ]
  },
  {
   "cell_type": "code",
   "execution_count": 16,
   "metadata": {},
   "outputs": [],
   "source": [
    "# save the final combined NO2 and weather data in a csv file\n",
    "combined_no2_weather_data.to_csv('../data/combined_no2_weather_data.csv', index=False)"
   ]
  },
  {
   "cell_type": "code",
   "execution_count": 17,
   "metadata": {},
   "outputs": [],
   "source": [
    "# merging SO2 and weather data\n",
    "combined_so2_weather_data = pd.merge(combined_so2_data,\n",
    "                                    combined_weather_data,\n",
    "                                    how='inner', \n",
    "                                    left_on='date_local', \n",
    "                                    right_on='date') \\\n",
    "                                .drop('date', axis=1) \\\n",
    "                                [['date_local', 'avgtempC', 'winddirDegree', 'windspeedKmph', 'cloudcover', 'humidity', 'precipInches',\n",
    "                                  'pressure', 'visibility', 'maxtempC', 'mintempC', 'sunHour', 'SO']]\n",
    "                                      \n",
    "\n"
   ]
  },
  {
   "cell_type": "code",
   "execution_count": 18,
   "metadata": {},
   "outputs": [],
   "source": [
    "# save the final combined SO and weather data in a csv file\n",
    "combined_so2_weather_data.to_csv('../data/combined_so2_weather_data.csv', index=False)"
   ]
  },
  {
   "cell_type": "code",
   "execution_count": 19,
   "metadata": {},
   "outputs": [],
   "source": [
    "# combining all pollutants data for last 5 years\n",
    "\n",
    "combined_pollutants_data = pd.merge(combined_ozone_data,\n",
    "                                    combined_pm2_5_data,\n",
    "                                    how=\"inner\",\n",
    "                                    on=\"date_local\")\n",
    "\n",
    "combined_pollutants_data = pd.merge(combined_pollutants_data,\n",
    "                                    combined_pm10_data,\n",
    "                                    how=\"inner\",\n",
    "                                    on=\"date_local\")\n",
    "\n",
    "combined_pollutants_data = pd.merge(combined_pollutants_data,\n",
    "                                    combined_no2_data,\n",
    "                                    how=\"inner\",\n",
    "                                    on=\"date_local\")\n",
    "\n",
    "combined_pollutants_data = pd.merge(combined_pollutants_data,\n",
    "                                    combined_so2_data,\n",
    "                                    how=\"inner\",\n",
    "                                    on=\"date_local\")"
   ]
  },
  {
   "cell_type": "code",
   "execution_count": 20,
   "metadata": {},
   "outputs": [],
   "source": [
    "# save the final combined pm2.5 and weather data in a csv file\n",
    "combined_pollutants_data.to_csv('../data/combined_pollutants_data.csv', index=False)"
   ]
  }
 ],
 "metadata": {
  "kernelspec": {
   "display_name": "air_project",
   "language": "python",
   "name": "air_project"
  },
  "language_info": {
   "codemirror_mode": {
    "name": "ipython",
    "version": 3
   },
   "file_extension": ".py",
   "mimetype": "text/x-python",
   "name": "python",
   "nbconvert_exporter": "python",
   "pygments_lexer": "ipython3",
   "version": "3.7.5"
  }
 },
 "nbformat": 4,
 "nbformat_minor": 2
}
